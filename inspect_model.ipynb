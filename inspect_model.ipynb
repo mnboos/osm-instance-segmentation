{
 "cells": [
  {
   "cell_type": "markdown",
   "metadata": {},
   "source": [
    "## Mask R-CNN - Inspect Trained Model\n",
    "\n",
    "Code and visualizations to test, debug, and evaluate the Mask R-CNN model."
   ]
  },
  {
   "cell_type": "code",
   "execution_count": 1,
   "metadata": {},
   "outputs": [
    {
     "name": "stderr",
     "output_type": "stream",
     "text": [
      "c:\\dev\\osm-instance-segmentation\\venv\\lib\\site-packages\\h5py\\__init__.py:36: FutureWarning: Conversion of the second argument of issubdtype from `float` to `np.floating` is deprecated. In future, it will be treated as `np.float64 == np.dtype(float).type`.\n",
      "  from ._conv import register_converters as _register_converters\n",
      "Using TensorFlow backend.\n"
     ]
    },
    {
     "name": "stdout",
     "output_type": "stream",
     "text": [
      "256\n",
      "Done\n"
     ]
    }
   ],
   "source": [
    "import os\n",
    "import sys\n",
    "import random\n",
    "import math\n",
    "import re\n",
    "import time\n",
    "import numpy as np\n",
    "import tensorflow as tf\n",
    "import matplotlib\n",
    "import matplotlib.pyplot as plt\n",
    "import matplotlib.patches as patches\n",
    "\n",
    "from mask_rcnn import utils, visualize\n",
    "from mask_rcnn import model as modellib\n",
    "from mask_rcnn.visualize import display_images, random_colors\n",
    "from mask_rcnn.model import log\n",
    "from core.mask_rcnn_config import IMAGE_WIDTH\n",
    "\n",
    "print(IMAGE_WIDTH)\n",
    "\n",
    "%matplotlib inline \n",
    "%load_ext autoreload\n",
    "%autoreload 2\n",
    "\n",
    "# Root directory of the project\n",
    "ROOT_DIR = os.getcwd()\n",
    "\n",
    "# Path to Shapes trained weights\n",
    "# WEIGHTS_PATH = os.path.join(ROOT_DIR, \"model\", \"mask_rcnn_osm_0232.h5\")\n",
    "# WEIGHTS_PATH = r\"D:\\_models\\stage2_hombi_rappi_zh.h5\"\n",
    "WEIGHTS_PATH = r\"D:\\_models\\mask_rcnn_osm_0100.h5\"\n",
    "assert os.path.isfile(WEIGHTS_PATH)\n",
    "print(\"Done\")"
   ]
  },
  {
   "cell_type": "markdown",
   "metadata": {},
   "source": [
    "## Configurations"
   ]
  },
  {
   "cell_type": "code",
   "execution_count": 2,
   "metadata": {},
   "outputs": [],
   "source": [
    "from core.mask_rcnn_config import MyMaskRcnnConfig\n",
    "\n",
    "config = MyMaskRcnnConfig()"
   ]
  },
  {
   "cell_type": "code",
   "execution_count": 3,
   "metadata": {},
   "outputs": [
    {
     "name": "stdout",
     "output_type": "stream",
     "text": [
      "\n",
      "Configurations:\n",
      "BACKBONE                       resnet101\n",
      "BACKBONE_STRIDES               [4, 8, 16, 32, 64]\n",
      "BATCH_SIZE                     1\n",
      "BBOX_STD_DEV                   [0.1 0.1 0.2 0.2]\n",
      "DETECTION_MAX_INSTANCES        100\n",
      "DETECTION_MIN_CONFIDENCE       0.7\n",
      "DETECTION_NMS_THRESHOLD        0.3\n",
      "GPU_COUNT                      1\n",
      "GRADIENT_CLIP_NORM             5.0\n",
      "IMAGES_PER_GPU                 1\n",
      "IMAGE_MAX_DIM                  256\n",
      "IMAGE_META_SIZE                18\n",
      "IMAGE_MIN_DIM                  256\n",
      "IMAGE_MIN_SCALE                0\n",
      "IMAGE_RESIZE_MODE              square\n",
      "IMAGE_SHAPE                    [256 256   3]\n",
      "LEARNING_MOMENTUM              0.9\n",
      "LEARNING_RATE                  0.001\n",
      "MASK_POOL_SIZE                 14\n",
      "MASK_SHAPE                     [28, 28]\n",
      "MAX_GT_INSTANCES               100\n",
      "MEAN_PIXEL                     [63.1 81.3 83.1]\n",
      "MINI_MASK_SHAPE                (56, 56)\n",
      "NAME                           osm\n",
      "NUM_CLASSES                    6\n",
      "POOL_SIZE                      7\n",
      "POST_NMS_ROIS_INFERENCE        1000\n",
      "POST_NMS_ROIS_TRAINING         2000\n",
      "ROI_POSITIVE_RATIO             0.33\n",
      "RPN_ANCHOR_RATIOS              [0.5, 1, 2]\n",
      "RPN_ANCHOR_SCALES              (32, 64, 128, 256, 512)\n",
      "RPN_ANCHOR_STRIDE              1\n",
      "RPN_BBOX_STD_DEV               [0.1 0.1 0.2 0.2]\n",
      "RPN_NMS_THRESHOLD              0.7\n",
      "RPN_TRAIN_ANCHORS_PER_IMAGE    256\n",
      "STEPS_PER_EPOCH                14000\n",
      "TRAIN_BN                       False\n",
      "TRAIN_ROIS_PER_IMAGE           200\n",
      "USE_MINI_MASK                  False\n",
      "USE_RPN_ROIS                   True\n",
      "VALIDATION_STEPS               100\n",
      "WEIGHT_DECAY                   0.0001\n",
      "\n",
      "\n"
     ]
    }
   ],
   "source": [
    "# Override the training configurations with a few\n",
    "# changes for inferencing.\n",
    "class InferenceConfig(config.__class__):\n",
    "    # Run detection on one image at a time\n",
    "    GPU_COUNT = 1\n",
    "    IMAGES_PER_GPU = 1\n",
    "#     RPN_ANCHOR_SCALES = (4,8,16, 32, 64)\n",
    "#     BACKBONE_STRIDES = [1,2,4, 8, 16]\n",
    "    IMAGE_MIN_DIM = 256\n",
    "    IMAGE_MAX_DIM = 256\n",
    "    #USE_RPN_ROIS = False\n",
    "#     RPN_ANCHOR_STRIDE = 2\n",
    "#     RPN_NMS_THRESHOLD = 0.1\n",
    "\n",
    "\n",
    "config = InferenceConfig()\n",
    "config.display()"
   ]
  },
  {
   "cell_type": "markdown",
   "metadata": {},
   "source": [
    "## Notebook Preferences"
   ]
  },
  {
   "cell_type": "code",
   "execution_count": 4,
   "metadata": {},
   "outputs": [],
   "source": [
    "# Device to load the neural network on.\n",
    "# Useful if you're training a model on the same \n",
    "# machine, in which case use CPU and leave the\n",
    "# GPU for training.\n",
    "DEVICE = \"/cpu:0\"  # /cpu:0 or /gpu:0\n",
    "\n",
    "# Inspect the model in training or inference modes\n",
    "# values: 'inference' or 'training'\n",
    "# TODO: code for 'training' test mode not ready yet\n",
    "TEST_MODE = \"inference\""
   ]
  },
  {
   "cell_type": "code",
   "execution_count": 5,
   "metadata": {},
   "outputs": [],
   "source": [
    "def get_ax(rows=1, cols=1, size=16):\n",
    "    \"\"\"Return a Matplotlib Axes array to be used in\n",
    "    all visualizations in the notebook. Provide a\n",
    "    central point to control graph sizes.\n",
    "    \n",
    "    Adjust the size attribute to control how big to render images\n",
    "    \"\"\"\n",
    "    _, ax = plt.subplots(rows, cols, figsize=(size*cols, size*rows))\n",
    "    return ax"
   ]
  },
  {
   "cell_type": "markdown",
   "metadata": {},
   "source": [
    "## Load Validation Dataset"
   ]
  },
  {
   "cell_type": "code",
   "execution_count": 15,
   "metadata": {},
   "outputs": [
    {
     "name": "stdout",
     "output_type": "stream",
     "text": [
      "D:\\training_images\\_new\\**\\*.tiff\n",
      "Dataset: OsmMappingDataset\n",
      "\n",
      "Loading 3511 images...\n",
      "Loaded.\n",
      "Images: 3511\n",
      "Classes: ['BG', 'building', 'vineyard', 'highway', 'pool', 'tennis']\n"
     ]
    }
   ],
   "source": [
    "from core.mask_rcnn_config import OsmMappingDataset\n",
    "import glob\n",
    "\n",
    "TRAINING_DATA_DIR = r\"D:\\training_images\\_new\\**\\*.tiff\"\n",
    "# TRAINING_DATA_DIR = r\"/home/martin/dev/_images\"\n",
    "# TRAINING_DATA_DIR = r\"D:\\training_images\\zurich_hires_test\"\n",
    "# TRAINING_DATA_DIR = r\"C:\\Temp\\images\\training\\256_overfitting\"\n",
    "# TRAINING_DATA_DIR = r\"C:\\DEV\\osm-instance-segmentation\\test\\data\"\n",
    "# path = os.path.join(TRAINING_DATA_DIR, \"**/capetown.bmp\")\n",
    "# path = os.path.join(TRAINING_DATA_DIR, \"**/*.tiff\")\n",
    "# path = os.path.join(TRAINING_DATA_DIR, r\"some_other_city\\23128930_15_1_2.tiff\")\n",
    "\n",
    "\n",
    "print(TRAINING_DATA_DIR)\n",
    "images = glob.glob(TRAINING_DATA_DIR, recursive=True)\n",
    "\n",
    "# print(images)\n",
    "random.shuffle(images)\n",
    "\n",
    "cutoffIndex = int(len(images)*0.8)\n",
    "validationImages = images[cutoffIndex:-1]\n",
    "\n",
    "# Validation dataset\n",
    "dataset = OsmMappingDataset(validationImages)\n",
    "dataset.load()\n",
    "dataset.prepare()\n",
    "\n",
    "\n",
    "print(\"Images: {}\\nClasses: {}\".format(len(dataset.image_ids), dataset.class_names))"
   ]
  },
  {
   "cell_type": "markdown",
   "metadata": {},
   "source": [
    "## Load Model"
   ]
  },
  {
   "cell_type": "code",
   "execution_count": 7,
   "metadata": {
    "scrolled": false
   },
   "outputs": [
    {
     "name": "stdout",
     "output_type": "stream",
     "text": [
      "Loading weights  D:\\_models\\mask_rcnn_osm_0100.h5\n",
      "Done\n"
     ]
    }
   ],
   "source": [
    "# Create model in inference mode\n",
    "with tf.device(DEVICE):\n",
    "    model = modellib.MaskRCNN(mode=\"inference\", \n",
    "                              model_dir=os.path.join(ROOT_DIR, \"model\"),\n",
    "                              config=config)\n",
    "\n",
    "# Load weights\n",
    "print(\"Loading weights \", WEIGHTS_PATH)\n",
    "model.load_weights(WEIGHTS_PATH, by_name=True)\n",
    "print(\"Done\")"
   ]
  },
  {
   "cell_type": "markdown",
   "metadata": {},
   "source": [
    "## Run Detection"
   ]
  },
  {
   "cell_type": "code",
   "execution_count": 31,
   "metadata": {
    "scrolled": false
   },
   "outputs": [
    {
     "name": "stdout",
     "output_type": "stream",
     "text": [
      "0\n"
     ]
    },
    {
     "data": {
      "text/plain": [
       "<matplotlib.image.AxesImage at 0x1d414d0c940>"
      ]
     },
     "execution_count": 31,
     "metadata": {},
     "output_type": "execute_result"
    },
    {
     "data": {
      "image/png": "[encoded data removed]",
      "text/plain": [
       "<Figure size 360x360 with 1 Axes>"
      ]
     },
     "metadata": {},
     "output_type": "display_data"
    }
   ],
   "source": [
    "image_id = random.choice(dataset.image_ids)\n",
    "# image_id = 289\n",
    "# image_id = 685  # single highway\n",
    "# image_id = 745  # 1 highway & 1 building\n",
    "# image_id = 191\n",
    "\n",
    "# for info in dataset.image_info:\n",
    "# #     if info[\"path\"].endswith(\"19_274590_340736.tiff\"):  # tennis\n",
    "#     if info[\"path\"].endswith(\"19_274518_340739.tiff\"):  # vineyard\n",
    "#         image_id = info[\"id\"]\n",
    "#         break\n",
    "\n",
    "print(image_id)\n",
    "# info = dataset.get_info(image_id)\n",
    "# print(info)\n",
    "\n",
    "img, _ = dataset.load_mask(image_id)\n",
    "full_mask = np.zeros((img.shape[0],img.shape[0],1), dtype=np.uint8)\n",
    "\n",
    "# print(img)\n",
    "for i in range(0, img.shape[2]):\n",
    "    full_mask[np.where(img[:, :, i]>=1)] = 1\n",
    "    fig, axs = plt.subplots()\n",
    "    ax = fig.add_subplot(111)\n",
    "    ax.imshow(img[:, :, i])\n",
    "    \n",
    "ax = get_ax(size=5)\n",
    "ax.imshow(full_mask[:,:,0])"
   ]
  },
  {
   "cell_type": "code",
   "execution_count": 32,
   "metadata": {
    "scrolled": false
   },
   "outputs": [
    {
     "name": "stdout",
     "output_type": "stream",
     "text": [
      "D:\\training_images\\_new\\_test\\256px.bmp.tiff\n",
      "image ID: osm.0 (0) \n",
      "Processing 1 images\n",
      "image                    shape: (256, 256, 3)         min:   14.00000  max:  254.00000  uint8\n",
      "Molding inputs\n",
      "Inputs molded\n",
      "molded_images            shape: (1, 256, 256, 3)      min:  -69.10000  max:  190.90000  float64\n",
      "image_metas              shape: (1, 18)               min:    0.00000  max:  256.00000  int32\n",
      "anchors                  shape: (1, 16368, 4)         min:   -1.41976  max:    2.16878  float32\n"
     ]
    },
    {
     "data": {
      "image/png": "[encoded data removed]",
      "text/plain": [
       "<Figure size 360x360 with 1 Axes>"
      ]
     },
     "metadata": {},
     "output_type": "display_data"
    },
    {
     "data": {
      "image/png": "[encoded data removed]",
      "text/plain": [
       "<Figure size 360x360 with 1 Axes>"
      ]
     },
     "metadata": {},
     "output_type": "display_data"
    }
   ],
   "source": [
    "\n",
    "# image = dataset.load_image(image_id)\n",
    "image, image_meta, gt_class_id, gt_bbox, gt_mask = modellib.load_image_gt(dataset, config, image_id, use_mini_mask=False)\n",
    "info = dataset.image_info[image_id]\n",
    "print(info[\"path\"])\n",
    "print(\"image ID: {}.{} ({}) {}\".format(info[\"source\"], info[\"id\"], image_id, \n",
    "                                       dataset.image_reference(image_id)))\n",
    "# Run object detection\n",
    "results = model.detect([image], [image_id], verbose=1)\n",
    "\n",
    "colors = random_colors(1)\n",
    "\n",
    "# Display results\n",
    "ax = get_ax(1, size=5)\n",
    "r = results[0]\n",
    "visualize.display_instances(image, r['rois'], r['masks'], r['class_ids'], dataset.class_names, r['scores'], figsize=(5,5))\n",
    "\n",
    "\n",
    "# img = np.invert(plt.imread(info[\"path\"][:-1]))\n",
    "\n",
    "\n",
    "# log(\"gt_class_id\", gt_class_id)\n",
    "# log(\"gt_bbox\", gt_bbox)\n",
    "# log(\"gt_mask\", gt_mask)"
   ]
  },
  {
   "cell_type": "markdown",
   "metadata": {},
   "source": [
    "# Calculate IoU"
   ]
  },
  {
   "cell_type": "code",
   "execution_count": 15,
   "metadata": {},
   "outputs": [
    {
     "name": "stdout",
     "output_type": "stream",
     "text": [
      "Calculating IoU\n",
      "IoU:  0.9393444111504585\n"
     ]
    }
   ],
   "source": [
    "\n",
    "\n",
    "print(\"Calculating IoU\")\n",
    "gt = np.array(full_mask, dtype=bool)\n",
    "\n",
    "pred_masks = r['masks']\n",
    "full_pred = np.zeros_like(gt, dtype=bool)\n",
    "for i in range(0, pred_masks.shape[2]):\n",
    "    full_pred[np.where(pred_masks[:, :, i]>=1)] = 1\n",
    "    \n",
    "# ax = get_ax(size=5)\n",
    "# ax.imshow(full_pred[:,:,0])\n",
    "\n",
    "overlap = gt * full_pred # Logical AND\n",
    "union = gt + full_pred # Logical OR\n",
    "IOU = overlap.sum()/float(union.sum())\n",
    "print(\"IoU: \", IOU)"
   ]
  },
  {
   "cell_type": "markdown",
   "metadata": {},
   "source": [
    "# Calculate Hit Rate"
   ]
  },
  {
   "cell_type": "code",
   "execution_count": 17,
   "metadata": {
    "scrolled": false
   },
   "outputs": [
    {
     "name": "stdout",
     "output_type": "stream",
     "text": [
      "Image 1/150: 568\n",
      "Molding inputs\n",
      "Inputs molded\n",
      "Image 2/150: 1058\n",
      "Molding inputs\n",
      "Inputs molded\n",
      "Image 3/150: 1114\n",
      "Molding inputs\n",
      "Inputs molded\n",
      "Image 4/150: 1286\n",
      "Molding inputs\n",
      "Inputs molded\n",
      "Image 5/150: 2013\n",
      "Molding inputs\n",
      "Inputs molded\n",
      "Image 6/150: 147\n",
      "Molding inputs\n",
      "Inputs molded\n",
      "Image 7/150: 2943\n",
      "Molding inputs\n",
      "Inputs molded\n",
      "Image 8/150: 3160\n",
      "Molding inputs\n",
      "Inputs molded\n",
      "Image 9/150: 2310\n",
      "Molding inputs\n",
      "Inputs molded\n",
      "Image 10/150: 2195\n",
      "Molding inputs\n",
      "Inputs molded\n",
      "Image 11/150: 3462\n",
      "Molding inputs\n",
      "Inputs molded\n",
      "Image 12/150: 596\n",
      "Molding inputs\n",
      "Inputs molded\n",
      "Image 13/150: 2350\n",
      "Molding inputs\n",
      "Inputs molded\n",
      "Image 14/150: 992\n",
      "Molding inputs\n",
      "Inputs molded\n",
      "Image 15/150: 1751\n",
      "Molding inputs\n",
      "Inputs molded\n",
      "Image 16/150: 1065\n",
      "Molding inputs\n",
      "Inputs molded\n",
      "Image 17/150: 3193\n",
      "Molding inputs\n",
      "Inputs molded\n",
      "Image 18/150: 1296\n",
      "Molding inputs\n",
      "Inputs molded\n",
      "Image 19/150: 1200\n",
      "Molding inputs\n",
      "Inputs molded\n",
      "Image 20/150: 324\n",
      "Molding inputs\n",
      "Inputs molded\n",
      "Image 21/150: 1769\n",
      "Molding inputs\n",
      "Inputs molded\n",
      "Image 22/150: 966\n",
      "Molding inputs\n",
      "Inputs molded\n",
      "Image 23/150: 1371\n",
      "Molding inputs\n",
      "Inputs molded\n",
      "Image 24/150: 1848\n",
      "Molding inputs\n",
      "Inputs molded\n",
      "Image 25/150: 1951\n",
      "Molding inputs\n",
      "Inputs molded\n",
      "Image 26/150: 3284\n",
      "Molding inputs\n",
      "Inputs molded\n",
      "Image 27/150: 1463\n",
      "Molding inputs\n",
      "Inputs molded\n",
      "Image 28/150: 1431\n",
      "Molding inputs\n",
      "Inputs molded\n",
      "Image 29/150: 3313\n",
      "Molding inputs\n",
      "Inputs molded\n",
      "Image 30/150: 1556\n",
      "Molding inputs\n",
      "Inputs molded\n",
      "Image 31/150: 1605\n",
      "Molding inputs\n",
      "Inputs molded\n",
      "Image 32/150: 2597\n",
      "Molding inputs\n",
      "Inputs molded\n",
      "Image 33/150: 1364\n",
      "Molding inputs\n",
      "Inputs molded\n",
      "Image 34/150: 712\n",
      "Molding inputs\n",
      "Inputs molded\n",
      "Image 35/150: 3032\n",
      "Molding inputs\n",
      "Inputs molded\n",
      "Image 36/150: 2095\n",
      "Molding inputs\n",
      "Inputs molded\n",
      "Image 37/150: 1057\n",
      "Molding inputs\n",
      "Inputs molded\n",
      "Image 38/150: 135\n",
      "Molding inputs\n",
      "Inputs molded\n",
      "Image 39/150: 57\n",
      "Molding inputs\n",
      "Inputs molded\n",
      "Image 40/150: 3061\n",
      "Molding inputs\n",
      "Inputs molded\n",
      "Image 41/150: 934\n",
      "Molding inputs\n",
      "Inputs molded\n",
      "Image 42/150: 2368\n",
      "Molding inputs\n",
      "Inputs molded\n",
      "Image 43/150: 2603\n",
      "Molding inputs\n",
      "Inputs molded\n",
      "Image 44/150: 2014\n",
      "Molding inputs\n",
      "Inputs molded\n",
      "Image 45/150: 2718\n",
      "Molding inputs\n",
      "Inputs molded\n",
      "Image 46/150: 1720\n",
      "Molding inputs\n",
      "Inputs molded\n",
      "Image 47/150: 2850\n",
      "Molding inputs\n",
      "Inputs molded\n",
      "Image 48/150: 862\n",
      "Molding inputs\n",
      "Inputs molded\n",
      "Image 49/150: 1813\n",
      "Molding inputs\n",
      "Inputs molded\n",
      "Image 50/150: 3333\n",
      "Molding inputs\n",
      "Inputs molded\n",
      "Image 51/150: 430\n",
      "Molding inputs\n",
      "Inputs molded\n",
      "Image 52/150: 2996\n",
      "Molding inputs\n",
      "Inputs molded\n",
      "Image 53/150: 2331\n",
      "Molding inputs\n",
      "Inputs molded\n",
      "Image 54/150: 2224\n",
      "Molding inputs\n",
      "Inputs molded\n",
      "Image 55/150: 1429\n",
      "Molding inputs\n",
      "Inputs molded\n",
      "Image 56/150: 1322\n",
      "Molding inputs\n",
      "Inputs molded\n",
      "Image 57/150: 20\n",
      "Molding inputs\n",
      "Inputs molded\n",
      "Image 58/150: 2761\n",
      "Molding inputs\n",
      "Inputs molded\n",
      "Image 59/150: 1195\n",
      "Molding inputs\n",
      "Inputs molded\n",
      "Image 60/150: 3042\n",
      "Molding inputs\n",
      "Inputs molded\n",
      "Image 61/150: 1211\n",
      "Molding inputs\n",
      "Inputs molded\n",
      "Image 62/150: 2522\n",
      "Molding inputs\n",
      "Inputs molded\n",
      "Image 63/150: 2000\n",
      "Molding inputs\n",
      "Inputs molded\n",
      "Image 64/150: 2684\n",
      "Molding inputs\n",
      "Inputs molded\n",
      "Image 65/150: 1732\n",
      "Molding inputs\n",
      "Inputs molded\n",
      "Image 66/150: 2090\n",
      "Molding inputs\n",
      "Inputs molded\n",
      "Image 67/150: 575\n",
      "Molding inputs\n",
      "Inputs molded\n",
      "Image 68/150: 2862\n",
      "Molding inputs\n",
      "Inputs molded\n",
      "Image 69/150: 1564\n",
      "Molding inputs\n",
      "Inputs molded\n",
      "Image 70/150: 2589\n",
      "Molding inputs\n",
      "Inputs molded\n",
      "Image 71/150: 1135\n",
      "Molding inputs\n",
      "Inputs molded\n",
      "Image 72/150: 531\n",
      "Molding inputs\n",
      "Inputs molded\n",
      "Image 73/150: 2575\n",
      "Molding inputs\n",
      "Inputs molded\n",
      "Image 74/150: 561\n",
      "Molding inputs\n",
      "Inputs molded\n",
      "Image 75/150: 3243\n",
      "Molding inputs\n",
      "Inputs molded\n",
      "Image 76/150: 3366\n",
      "Molding inputs\n",
      "Inputs molded\n",
      "Image 77/150: 1970\n",
      "Molding inputs\n",
      "Inputs molded\n",
      "Image 78/150: 1535\n",
      "Molding inputs\n",
      "Inputs molded\n",
      "Image 79/150: 1205\n",
      "Molding inputs\n",
      "Inputs molded\n",
      "Image 80/150: 1673\n",
      "Molding inputs\n",
      "Inputs molded\n",
      "Image 81/150: 2319\n",
      "Molding inputs\n",
      "Inputs molded\n",
      "Image 82/150: 2181\n",
      "Molding inputs\n",
      "Inputs molded\n",
      "Image 83/150: 557\n",
      "Molding inputs\n",
      "Inputs molded\n",
      "Image 84/150: 3017\n",
      "Molding inputs\n",
      "Inputs molded\n",
      "Image 85/150: 3081\n",
      "Molding inputs\n",
      "Inputs molded\n",
      "Image 86/150: 133\n",
      "Molding inputs\n",
      "Inputs molded\n",
      "Image 87/150: 1806\n",
      "Molding inputs\n",
      "Inputs molded\n",
      "Image 88/150: 204\n",
      "Molding inputs\n",
      "Inputs molded\n",
      "Image 89/150: 2283\n",
      "Molding inputs\n",
      "Inputs molded\n",
      "Image 90/150: 2029\n",
      "Molding inputs\n",
      "Inputs molded\n",
      "Image 91/150: 1461\n",
      "Molding inputs\n",
      "Inputs molded\n",
      "Image 92/150: 1032\n",
      "Molding inputs\n",
      "Inputs molded\n",
      "Image 93/150: 29\n",
      "Molding inputs\n",
      "Inputs molded\n",
      "Image 94/150: 2966\n",
      "Molding inputs\n",
      "Inputs molded\n",
      "Image 95/150: 2035\n",
      "Molding inputs\n",
      "Inputs molded\n",
      "Image 96/150: 1198\n",
      "Molding inputs\n",
      "Inputs molded\n",
      "Image 97/150: 2165\n",
      "Molding inputs\n",
      "Inputs molded\n",
      "Image 98/150: 2442\n",
      "Molding inputs\n",
      "Inputs molded\n",
      "Image 99/150: 2942\n",
      "Molding inputs\n",
      "Inputs molded\n",
      "Image 100/150: 187\n",
      "Molding inputs\n",
      "Inputs molded\n",
      "Image 101/150: 1335\n",
      "Molding inputs\n",
      "Inputs molded\n",
      "Image 102/150: 828\n",
      "Molding inputs\n",
      "Inputs molded\n",
      "Image 103/150: 1932\n",
      "Molding inputs\n",
      "Inputs molded\n",
      "Image 104/150: 1898\n",
      "Molding inputs\n",
      "Inputs molded\n",
      "Image 105/150: 2870\n",
      "Molding inputs\n",
      "Inputs molded\n",
      "Image 106/150: 848\n",
      "Molding inputs\n",
      "Inputs molded\n",
      "Image 107/150: 232\n",
      "Molding inputs\n",
      "Inputs molded\n",
      "Image 108/150: 818\n",
      "Molding inputs\n",
      "Inputs molded\n",
      "Image 109/150: 2131\n",
      "Molding inputs\n",
      "Inputs molded\n",
      "Image 110/150: 1605\n",
      "Molding inputs\n",
      "Inputs molded\n",
      "Image 111/150: 1187\n",
      "Molding inputs\n",
      "Inputs molded\n",
      "Image 112/150: 1811\n",
      "Molding inputs\n",
      "Inputs molded\n",
      "Image 113/150: 320\n",
      "Molding inputs\n",
      "Inputs molded\n",
      "Image 114/150: 674\n",
      "Molding inputs\n",
      "Inputs molded\n",
      "Image 115/150: 271\n",
      "Molding inputs\n",
      "Inputs molded\n",
      "Image 116/150: 2514\n",
      "Molding inputs\n",
      "Inputs molded\n",
      "Image 117/150: 681\n",
      "Molding inputs\n",
      "Inputs molded\n",
      "Image 118/150: 2378\n",
      "Molding inputs\n",
      "Inputs molded\n",
      "Image 119/150: 2949\n",
      "Molding inputs\n",
      "Inputs molded\n",
      "Image 120/150: 2597\n",
      "Molding inputs\n",
      "Inputs molded\n",
      "Image 121/150: 596\n",
      "Molding inputs\n",
      "Inputs molded\n",
      "Image 122/150: 1590\n",
      "Molding inputs\n",
      "Inputs molded\n",
      "Image 123/150: 810\n",
      "Molding inputs\n",
      "Inputs molded\n",
      "Image 124/150: 94\n",
      "Molding inputs\n",
      "Inputs molded\n",
      "Image 125/150: 2147\n",
      "Molding inputs\n",
      "Inputs molded\n",
      "Image 126/150: 2382\n",
      "Molding inputs\n",
      "Inputs molded\n",
      "Image 127/150: 1103\n",
      "Molding inputs\n",
      "Inputs molded\n",
      "Image 128/150: 660\n",
      "Molding inputs\n",
      "Inputs molded\n",
      "Image 129/150: 1549\n",
      "Molding inputs\n",
      "Inputs molded\n",
      "Image 130/150: 1657\n",
      "Molding inputs\n",
      "Inputs molded\n",
      "Image 131/150: 3271\n",
      "Molding inputs\n",
      "Inputs molded\n",
      "Image 132/150: 708\n",
      "Molding inputs\n",
      "Inputs molded\n",
      "Image 133/150: 3471\n",
      "Molding inputs\n",
      "Inputs molded\n",
      "Image 134/150: 2060\n",
      "Molding inputs\n",
      "Inputs molded\n",
      "Image 135/150: 2813\n",
      "Molding inputs\n",
      "Inputs molded\n",
      "Image 136/150: 1963\n",
      "Molding inputs\n",
      "Inputs molded\n",
      "Image 137/150: 534\n",
      "Molding inputs\n",
      "Inputs molded\n",
      "Image 138/150: 2477\n",
      "Molding inputs\n",
      "Inputs molded\n",
      "Image 139/150: 1165\n",
      "Molding inputs\n",
      "Inputs molded\n",
      "Image 140/150: 45\n",
      "Molding inputs\n",
      "Inputs molded\n",
      "Image 141/150: 1251\n",
      "Molding inputs\n",
      "Inputs molded\n",
      "Image 142/150: 1510\n",
      "Molding inputs\n",
      "Inputs molded\n",
      "Image 143/150: 1284\n",
      "Molding inputs\n",
      "Inputs molded\n",
      "Image 144/150: 526\n",
      "Molding inputs\n",
      "Inputs molded\n",
      "Image 145/150: 161\n",
      "Molding inputs\n",
      "Inputs molded\n",
      "Image 146/150: 3324\n",
      "Molding inputs\n",
      "Inputs molded\n",
      "Image 147/150: 3221\n",
      "Molding inputs\n",
      "Inputs molded\n",
      "Image 148/150: 1331\n",
      "Molding inputs\n",
      "Inputs molded\n",
      "Image 149/150: 3057\n",
      "Molding inputs\n",
      "Inputs molded\n",
      "Image 150/150: 202\n",
      "Molding inputs\n",
      "Inputs molded\n",
      "\n",
      "Summary\n",
      "--------------------------------------------------------\n",
      "TP (correct predictions):  3.8133333333333335\n",
      "FP (wrong predictions):    0.18666666666666668\n",
      "FN (missing predictions):  0.47333333333333333\n",
      "Precision:                 0.9533333333333334\n",
      "Recall:                    0.8895800933125971\n"
     ]
    }
   ],
   "source": [
    "from core.mask_rcnn_config import osm_class_ids\n",
    "\n",
    "def print_stat(tp, fp, fn):\n",
    "    prec = 1 if (tp + fp) == 0 else tp / (tp + fp)\n",
    "    rec = 1 if (tp + fn) == 0 else tp / (tp + fn)\n",
    "    print(\"TP (correct predictions): \", tp)\n",
    "    print(\"FP (wrong predictions):   \", fp)\n",
    "    print(\"FN (missing predictions): \", fn)\n",
    "\n",
    "    print(\"Precision:                \", prec)\n",
    "    print(\"Recall:                   \", rec)\n",
    "\n",
    "def compute_batch_hitrate(image_ids):\n",
    "    all_results = []\n",
    "    for idx, image_id in enumerate(image_ids):\n",
    "        print(\"Image {}/{}: {}\".format(idx+1, len(image_ids), image_id))\n",
    "        image, image_meta, gt_class_id, gt_bbox, gt_mask =\\\n",
    "                modellib.load_image_gt(dataset, config, image_id, use_mini_mask=False) ;\n",
    "        results = model.detect([image], [image_id], verbose=0) ;\n",
    "        r = results[0]\n",
    "        \n",
    "        predictions_by_class = {}\n",
    "        class_by_id = {}\n",
    "        for c in osm_class_ids:\n",
    "            class_by_id[osm_class_ids[c]] = c\n",
    "\n",
    "        pred_masks = r['masks']\n",
    "\n",
    "        gt, gt_cls = dataset.load_mask(image_id)\n",
    "        gt_updated = np.copy(gt)\n",
    "        nr_instances = gt.shape[2]\n",
    "\n",
    "        tp = 0\n",
    "        fp = 0\n",
    "        fn = 0\n",
    "        for i_pred in range(0, pred_masks.shape[2]):\n",
    "            cls_pred = r['class_ids'][i_pred]\n",
    "            has_any_gt = False\n",
    "            for i_gt in range(0, gt.shape[2]):\n",
    "                if gt_cls[i_gt] == cls_pred:\n",
    "                    match = gt[:, :, i_gt][np.where(pred_masks[:, :, i_pred] > 0)]\n",
    "                    if match.max():\n",
    "                        tp += 1\n",
    "                        has_any_gt = True\n",
    "            if not has_any_gt:\n",
    "                fp += 1\n",
    "\n",
    "        for i_gt in range(0, gt.shape[2]):\n",
    "            has_any_pred = False\n",
    "            for i_pred in range(0, pred_masks.shape[2]):\n",
    "                cls_pred = r['class_ids'][i_pred]\n",
    "                if gt_cls[i_gt] == cls_pred:\n",
    "                    match = gt[:, :, i_gt][np.where(pred_masks[:, :, i_pred] > 0)]\n",
    "                    if match.size and match.max():\n",
    "                        has_any_pred = True\n",
    "            if not has_any_pred:\n",
    "                fn += 1\n",
    "        all_results.append((tp, fp, fn))\n",
    "#         print(\"\")\n",
    "#         print_stat(tp, fp, fn)\n",
    "#         print(\"\")\n",
    "    return all_results\n",
    "\n",
    "nr_images = 150\n",
    "image_ids = np.random.choice(dataset.image_ids, nr_images)\n",
    "results = compute_batch_hitrate(image_ids)\n",
    "tp_mean = sum(map(lambda r: r[0], results)) / nr_images\n",
    "fp_mean = sum(map(lambda r: r[1], results)) / nr_images\n",
    "fn_mean = sum(map(lambda r: r[2], results)) / nr_images\n",
    "\n",
    "print(\"\")\n",
    "print(\"Summary\")\n",
    "print(\"--------------------------------------------------------\")\n",
    "print_stat(tp_mean, fp_mean, fn_mean)"
   ]
  },
  {
   "cell_type": "code",
   "execution_count": null,
   "metadata": {},
   "outputs": [],
   "source": [
    "print(r[\"scores\"])"
   ]
  },
  {
   "cell_type": "code",
   "execution_count": null,
   "metadata": {
    "scrolled": false
   },
   "outputs": [],
   "source": [
    "from mask_rcnn.visualize import random_colors\n",
    "\n",
    "visualize.display_images([img], cmap='Greys', cols=1, figsize=5)\n",
    "visualize.display_instances(np.zeros((256,256,3)), r['rois'], r['masks'], r['class_ids'], dataset.class_names, r['scores'], \n",
    "                            ax=None,\n",
    "                            show_boxes=False, figsize=(5,5), colors=colors)"
   ]
  },
  {
   "cell_type": "code",
   "execution_count": 13,
   "metadata": {
    "scrolled": true
   },
   "outputs": [
    {
     "name": "stdout",
     "output_type": "stream",
     "text": [
      "Nr. instances:  5\n",
      "\n",
      "POLYGON ((214 141, 215 141, 216 141, 217 141, 218 141, 218 142, 219 142, 220 142, 220 143, 221 143, 222 143, 223 143, 224 143, 224 144, 225 144, 226 144, 226 145, 227 145, 228 145, 228 146, 229 146, 230 146, 230 147, 231 147, 232 147, 232 148, 233 148, 234 148, 234 149, 235 149, 236 149, 236 150, 237 150, 238 150, 238 151, 239 151, 239 152, 240 152, 241 152, 241 153, 242 153, 242 154, 243 154, 243 155, 244 155, 244 156, 245 156, 246 156, 246 157, 247 157, 247 158, 247 159, 248 159, 249 159, 249 160, 250 160, 250 161, 250 162, 250 163, 250 164, 250 165, 249 165, 249 166, 249 167, 249 168, 248 168, 248 169, 247 169, 247 170, 247 171, 246 171, 246 172, 245 172, 245 173, 245 174, 244 174, 244 175, 244 176, 243 176, 243 177, 242 177, 242 178, 242 179, 241 179, 241 180, 241 181, 240 181, 240 182, 240 183, 239 183, 239 184, 239 185, 239 186, 238 186, 238 187, 238 188, 237 188, 237 189, 237 190, 237 191, 236 191, 236 192, 235 192, 234 192, 234 193, 233 193, 232 193, 231 193, 231 194, 230 194, 229 194, 228 194, 227 194, 226 194, 225 194, 224 194, 223 194, 222 194, 221 194, 220 194, 219 194, 218 194, 217 194, 216 194, 216 193, 215 193, 214 193, 214 192, 213 192, 212 192, 212 191, 211 191, 211 190, 210 190, 209 190, 209 189, 208 189, 208 188, 207 188, 207 187, 206 187, 206 186, 205 186, 204 186, 204 185, 203 185, 202 185, 202 184, 201 184, 200 184, 200 183, 199 183, 199 182, 198 182, 197 182, 197 181, 196 181, 195 181, 195 180, 194 180, 193 180, 193 179, 192 179, 192 178, 191 178, 191 177, 190 177, 190 176, 189 176, 189 175, 188 175, 188 174, 188 173, 187 173, 187 172, 187 171, 187 170, 187 169, 187 168, 187 167, 187 166, 187 165, 188 165, 188 164, 188 163, 189 163, 189 162, 189 161, 190 161, 190 160, 191 160, 191 159, 192 159, 192 158, 192 157, 193 157, 193 156, 194 156, 194 155, 194 154, 195 154, 195 153, 196 153, 196 152, 197 152, 197 151, 198 151, 199 151, 199 150, 200 150, 200 149, 201 149, 201 148, 202 148, 203 148, 203 147, 204 147, 205 147, 205 146, 206 146, 206 145, 207 145, 208 145, 208 144, 209 144, 209 143, 210 143, 211 143, 212 143, 212 142, 213 142, 214 142, 214 141))\n",
      "\n"
     ]
    },
    {
     "data": {
      "image/png": "[encoded data removed]",
      "text/plain": [
       "<Figure size 432x288 with 2 Axes>"
      ]
     },
     "metadata": {},
     "output_type": "display_data"
    },
    {
     "name": "stdout",
     "output_type": "stream",
     "text": [
      "POLYGON ((4 86, 5 86, 6 86, 6 87, 7 87, 8 87, 9 87, 9 88, 10 88, 11 88, 12 88, 13 88, 13 89, 14 89, 14 90, 15 90, 15 91, 16 91, 16 92, 17 92, 17 93, 18 93, 19 93, 19 94, 20 94, 20 95, 21 95, 22 95, 22 96, 23 96, 24 96, 24 97, 25 97, 26 97, 27 97, 27 98, 28 98, 29 98, 30 98, 30 99, 31 99, 32 99, 33 99, 33 100, 34 100, 34 101, 35 101, 35 102, 35 103, 36 103, 36 104, 37 104, 37 105, 38 105, 39 105, 39 106, 40 106, 41 106, 41 107, 42 107, 42 108, 43 108, 44 108, 44 109, 45 109, 46 109, 46 110, 47 110, 48 110, 49 110, 49 111, 50 111, 51 111, 51 112, 52 112, 52 113, 53 113, 53 114, 54 114, 54 115, 55 115, 55 116, 56 116, 57 116, 57 117, 58 117, 59 117, 59 118, 60 118, 61 118, 61 119, 62 119, 62 120, 63 120, 64 120, 64 121, 65 121, 66 121, 66 122, 67 122, 68 122, 69 122, 69 123, 70 123, 70 124, 71 124, 71 125, 72 125, 72 126, 73 126, 74 126, 74 127, 75 127, 76 127, 76 128, 77 128, 78 128, 78 129, 79 129, 80 129, 80 130, 81 130, 81 131, 82 131, 82 132, 83 132, 84 132, 84 133, 85 133, 86 133, 87 133, 87 134, 88 134, 89 134, 89 135, 90 135, 90 136, 91 136, 91 137, 92 137, 93 137, 93 138, 94 138, 95 138, 95 139, 96 139, 97 139, 97 140, 98 140, 98 141, 99 141, 100 141, 100 142, 101 142, 101 143, 102 143, 102 144, 103 144, 104 144, 105 144, 105 145, 106 145, 107 145, 107 146, 108 146, 109 146, 109 147, 110 147, 110 148, 111 148, 112 148, 112 149, 113 149, 114 149, 114 150, 115 150, 115 151, 116 151, 117 151, 117 152, 118 152, 119 152, 119 153, 120 153, 121 153, 121 154, 122 154, 122 155, 123 155, 124 155, 124 156, 125 156, 126 156, 126 157, 127 157, 128 157, 129 157, 129 158, 130 158, 131 158, 131 159, 132 159, 133 159, 133 160, 134 160, 134 161, 135 161, 135 162, 136 162, 137 162, 137 163, 138 163, 139 163, 140 163, 140 164, 141 164, 142 164, 142 165, 143 165, 143 166, 144 166, 144 167, 145 167, 146 167, 146 168, 147 168, 148 168, 148 169, 149 169, 150 169, 151 169, 151 170, 152 170, 153 170, 153 171, 154 171, 155 171, 155 172, 156 172, 156 173, 157 173, 158 173, 158 174, 159 174, 159 175, 160 175, 160 176, 161 176, 161 177, 162 177, 162 178, 163 178, 163 179, 164 179, 165 179, 165 180, 166 180, 167 180, 168 180, 168 181, 169 181, 170 181, 171 181, 171 182, 172 182, 173 182, 174 182, 174 183, 175 183, 175 184, 176 184, 176 185, 177 185, 177 186, 178 186, 178 187, 178 188, 179 188, 179 189, 180 189, 180 190, 181 190, 181 191, 182 191, 182 192, 183 192, 184 192, 185 192, 186 192, 186 193, 187 193, 188 193, 189 193, 189 194, 190 194, 191 194, 192 194, 192 195, 193 195, 194 195, 194 196, 194 197, 195 197, 195 198, 196 198, 196 199, 196 200, 197 200, 197 201, 197 202, 198 202, 198 203, 199 203, 199 204, 200 204, 201 204, 202 204, 202 205, 203 205, 204 205, 205 205, 206 205, 206 206, 207 206, 208 206, 209 206, 210 206, 210 207, 211 207, 211 208, 212 208, 212 209, 212 210, 213 210, 213 211, 213 212, 213 213, 214 213, 214 214, 214 215, 214 216, 213 216, 213 217, 212 217, 211 217, 211 218, 210 218, 209 218, 209 217, 208 217, 207 217, 206 217, 206 216, 205 216, 204 216, 203 216, 202 216, 201 216, 200 216, 200 215, 199 215, 199 214, 198 214, 198 213, 197 213, 197 212, 197 211, 196 211, 196 210, 195 210, 195 209, 194 209, 194 208, 193 208, 192 208, 192 207, 191 207, 190 207, 190 206, 189 206, 188 206, 188 205, 187 205, 186 205, 185 205, 184 205, 183 205, 183 204, 182 204, 181 204, 181 203, 180 203, 180 202, 179 202, 179 201, 178 201, 178 200, 177 200, 177 199, 176 199, 176 198, 175 198, 174 198, 174 197, 173 197, 172 197, 172 196, 171 196, 171 195, 170 195, 169 195, 169 194, 168 194, 167 194, 167 193, 166 193, 165 193, 164 193, 164 192, 163 192, 162 192, 162 191, 161 191, 161 190, 160 190, 160 189, 159 189, 159 188, 158 188, 158 187, 157 187, 156 187, 156 186, 155 186, 154 186, 154 185, 153 185, 153 184, 152 184, 151 184, 151 183, 150 183, 150 182, 149 182, 148 182, 147 182, 147 181, 146 181, 145 181, 145 180, 144 180, 143 180, 143 179, 142 179, 141 179, 141 178, 140 178, 140 177, 139 177, 138 177, 138 176, 137 176, 136 176, 136 175, 135 175, 134 175, 134 174, 133 174, 132 174, 132 173, 131 173, 130 173, 130 172, 129 172, 128 172, 128 171, 127 171, 127 170, 126 170, 125 170, 125 169, 124 169, 123 169, 122 169, 122 168, 121 168, 120 168, 120 167, 119 167, 118 167, 118 166, 117 166, 116 166, 116 165, 115 165, 115 164, 114 164, 113 164, 113 163, 112 163, 111 163, 111 162, 110 162, 109 162, 109 161, 108 161, 108 160, 107 160, 107 159, 106 159, 106 158, 105 158, 104 158, 104 157, 103 157, 102 157, 101 157, 100 157, 100 156, 99 156, 98 156, 97 156, 97 155, 96 155, 95 155, 94 155, 94 154, 93 154, 93 153, 92 153, 92 152, 91 152, 91 151, 90 151, 90 150, 89 150, 89 149, 88 149, 88 148, 87 148, 87 147, 86 147, 85 147, 85 146, 84 146, 83 146, 82 146, 81 146, 81 145, 80 145, 79 145, 78 145, 77 145, 76 145, 76 144, 75 144, 74 144, 74 143, 73 143, 73 142, 72 142, 72 141, 72 140, 71 140, 71 139, 70 139, 70 138, 69 138, 69 137, 68 137, 68 136, 67 136, 66 136, 66 135, 65 135, 64 135, 64 134, 63 134, 62 134, 61 134, 61 133, 60 133, 59 133, 58 133, 57 133, 57 132, 56 132, 55 132, 55 131, 54 131, 54 130, 53 130, 53 129, 53 128, 52 128, 52 127, 51 127, 50 127, 50 126, 49 126, 49 125, 48 125, 47 125, 47 124, 46 124, 46 123, 45 123, 44 123, 44 122, 43 122, 42 122, 41 122, 41 121, 40 121, 39 121, 38 121, 38 120, 37 120, 37 119, 36 119, 36 118, 35 118, 35 117, 34 117, 34 116, 33 116, 33 115, 32 115, 32 114, 31 114, 30 114, 30 113, 29 113, 29 112, 28 112, 28 111, 27 111, 26 111, 26 110, 25 110, 24 110, 23 110, 23 109, 22 109, 21 109, 20 109, 20 108, 19 108, 18 108, 18 107, 17 107, 17 106, 16 106, 16 105, 15 105, 15 104, 14 104, 14 103, 13 103, 12 103, 11 103, 11 102, 10 102, 9 102, 9 101, 8 101, 7 101, 7 100, 6 100, 6 99, 5 99, 4 99, 4 98, 3 98, 3 97, 2 97, 2 96, 2 95, 1 95, 1 94, 2 94, 2 93, 2 92, 2 91, 2 90, 2 89, 2 88, 3 88, 3 87, 4 87, 4 86))\n",
      "\n"
     ]
    },
    {
     "data": {
      "image/png": "[encoded data removed]",
      "text/plain": [
       "<Figure size 432x288 with 2 Axes>"
      ]
     },
     "metadata": {},
     "output_type": "display_data"
    },
    {
     "name": "stdout",
     "output_type": "stream",
     "text": [
      "POLYGON ((102 215, 103 215, 104 215, 105 215, 106 215, 107 215, 108 215, 109 215, 110 215, 111 215, 111 216, 112 216, 113 216, 114 216, 114 217, 115 217, 116 217, 116 218, 117 218, 118 218, 118 219, 119 219, 120 219, 120 220, 121 220, 122 220, 122 221, 122 222, 123 222, 123 223, 124 223, 125 223, 125 224, 126 224, 126 225, 127 225, 128 225, 128 226, 129 226, 129 227, 130 227, 131 227, 132 227, 132 228, 133 228, 134 228, 135 228, 135 229, 136 229, 137 229, 137 230, 138 230, 139 230, 139 231, 140 231, 141 231, 142 231, 142 232, 143 232, 144 232, 145 232, 146 232, 146 233, 147 233, 147 234, 148 234, 149 234, 149 235, 150 235, 151 235, 152 235, 152 236, 152 237, 153 237, 153 238, 153 239, 154 239, 154 240, 154 241, 154 242, 154 243, 154 244, 154 245, 155 245, 155 246, 155 247, 155 248, 155 249, 155 250, 155 251, 155 252, 155 253, 154 253, 154 254, 154 255, 153 255, 152 255, 152 256, 151 256, 150 256, 149 256, 148 256, 147 256, 146 256, 145 256, 144 256, 143 256, 142 256, 141 256, 140 256, 139 256, 138 256, 137 256, 136 256, 135 256, 134 256, 133 256, 132 256, 131 256, 130 256, 129 256, 128 256, 127 256, 126 256, 125 256, 124 256, 123 256, 122 256, 121 256, 120 256, 119 256, 118 256, 117 256, 116 256, 115 256, 114 256, 113 256, 112 256, 111 256, 110 256, 109 256, 108 256, 107 256, 106 256, 105 256, 104 256, 103 256, 102 256, 101 256, 100 256, 99 256, 98 256, 97 256, 96 256, 95 256, 94 256, 93 256, 93 255, 92 255, 91 255, 91 254, 90 254, 90 253, 89 253, 88 253, 88 252, 87 252, 86 252, 86 251, 86 250, 85 250, 85 249, 85 248, 84 248, 84 247, 84 246, 83 246, 83 245, 83 244, 82 244, 82 243, 81 243, 81 242, 80 242, 80 241, 80 240, 80 239, 79 239, 79 238, 79 237, 80 237, 80 236, 80 235, 81 235, 81 234, 82 234, 82 233, 83 233, 84 233, 84 232, 85 232, 85 231, 86 231, 86 230, 87 230, 87 229, 88 229, 88 228, 89 228, 89 227, 90 227, 90 226, 91 226, 91 225, 91 224, 91 223, 92 223, 92 222, 92 221, 93 221, 93 220, 94 220, 94 219, 95 219, 95 218, 96 218, 97 218, 97 217, 98 217, 99 217, 99 216, 100 216, 101 216, 102 216, 102 215))\n",
      "\n"
     ]
    },
    {
     "data": {
      "image/png": "[encoded data removed]",
      "text/plain": [
       "<Figure size 432x288 with 2 Axes>"
      ]
     },
     "metadata": {},
     "output_type": "display_data"
    },
    {
     "name": "stdout",
     "output_type": "stream",
     "text": [
      "POLYGON ((254 75, 255 75, 256 75, 256 76, 256 77, 256 78, 256 79, 256 80, 256 81, 256 82, 256 83, 256 84, 256 85, 256 86, 256 87, 256 88, 256 89, 256 90, 256 91, 256 92, 256 93, 256 94, 256 95, 256 96, 256 97, 256 98, 256 99, 256 100, 256 101, 256 102, 256 103, 256 104, 256 105, 256 106, 256 107, 256 108, 256 109, 256 110, 256 111, 256 112, 256 113, 256 114, 256 115, 256 116, 255 116, 254 116, 254 115, 253 115, 253 114, 252 114, 251 114, 250 114, 249 114, 249 113, 248 113, 247 113, 247 112, 246 112, 246 111, 245 111, 245 110, 244 110, 243 110, 243 109, 242 109, 241 109, 241 108, 240 108, 239 108, 239 107, 238 107, 238 106, 237 106, 236 106, 236 105, 235 105, 234 105, 234 104, 233 104, 232 104, 232 103, 231 103, 231 102, 230 102, 230 101, 230 100, 230 99, 230 98, 231 98, 231 97, 231 96, 232 96, 232 95, 233 95, 233 94, 234 94, 234 93, 235 93, 235 92, 236 92, 236 91, 237 91, 237 90, 237 89, 238 89, 238 88, 239 88, 239 87, 240 87, 240 86, 241 86, 241 85, 242 85, 242 84, 243 84, 243 83, 243 82, 244 82, 244 81, 245 81, 246 81, 246 80, 247 80, 247 79, 248 79, 248 78, 249 78, 250 78, 250 77, 251 77, 252 77, 252 76, 253 76, 254 76, 254 75))\n",
      "\n"
     ]
    },
    {
     "data": {
      "image/png": "[encoded data removed]",
      "text/plain": [
       "<Figure size 432x288 with 2 Axes>"
      ]
     },
     "metadata": {},
     "output_type": "display_data"
    },
    {
     "name": "stdout",
     "output_type": "stream",
     "text": [
      "POLYGON ((22 1, 23 1, 24 1, 24 2, 25 2, 26 2, 27 2, 27 3, 28 3, 29 3, 30 3, 31 3, 32 3, 33 3, 33 4, 33 5, 33 6, 33 7, 33 8, 33 9, 33 10, 33 11, 33 12, 33 13, 32 13, 32 14, 31 14, 31 15, 31 16, 30 16, 30 17, 30 18, 29 18, 29 19, 28 19, 28 20, 28 21, 28 22, 27 22, 27 23, 28 23, 28 24, 29 24, 29 25, 28 25, 28 26, 28 27, 28 28, 28 29, 29 29, 29 30, 29 31, 30 31, 30 32, 30 33, 30 34, 31 34, 31 35, 31 36, 30 36, 30 37, 30 38, 30 39, 29 39, 28 39, 27 39, 27 40, 26 40, 25 40, 24 40, 23 40, 22 40, 21 40, 20 40, 20 39, 19 39, 18 39, 17 39, 17 38, 16 38, 15 38, 15 37, 15 36, 14 36, 14 35, 14 34, 15 34, 15 33, 14 33, 14 32, 13 32, 12 32, 12 33, 11 33, 10 33, 9 33, 9 34, 8 34, 8 35, 7 35, 7 34, 6 34, 6 33, 5 33, 4 33, 4 32, 3 32, 3 31, 3 30, 2 30, 1 30, 1 29, 0 29, 0 28, 0 27, 0 26, 0 25, 0 24, 0 23, 0 22, 0 21, 0 20, 0 19, 0 18, 0 17, 1 17, 1 16, 1 15, 1 14, 1 13, 1 12, 1 11, 1 10, 1 9, 1 8, 1 7, 2 7, 2 6, 2 5, 3 5, 3 6, 3 7, 4 7, 4 6, 5 6, 5 5, 6 5, 6 4, 6 3, 7 3, 8 3, 9 3, 10 3, 11 3, 12 3, 13 3, 13 2, 14 2, 15 2, 16 2, 17 2, 18 2, 19 2, 20 2, 21 2, 22 2, 22 1))\n"
     ]
    },
    {
     "data": {
      "image/png": "[encoded data removed]",
      "text/plain": [
       "<Figure size 432x288 with 2 Axes>"
      ]
     },
     "metadata": {},
     "output_type": "display_data"
    }
   ],
   "source": [
    "from core.utils import MarchingSquares\n",
    "from shapely import geometry\n",
    "\n",
    "\n",
    "# print(results[0]['masks'][:, :, 0])\n",
    "\n",
    "# for m in results[0]['masks']:\n",
    "#     print(m[:, :, 0])\n",
    "\n",
    "nr_instances = results[0]['rois'].shape[0]\n",
    "print(\"Nr. instances: \", nr_instances)\n",
    "\n",
    "# ms = MarchingSquares.from_array(results[0]['masks'][:, :, 3])\n",
    "# c = ms.find_contour(0.2)\n",
    "# poly = geometry.Polygon([[x, y] for (x, y) in c])\n",
    "# print(poly.wkt)\n",
    "\n",
    "for i in range(nr_instances):\n",
    "    print(\"\")\n",
    "    ms = MarchingSquares.from_array(results[0]['masks'][:, :, i])\n",
    "    c = ms.find_contour()\n",
    "    poly = geometry.Polygon([[x, y] for (x, y) in c])\n",
    "    (x, y) = poly.exterior.xy\n",
    "    plt.show()\n",
    "    print(poly.wkt)\n",
    "    fig, axs = plt.subplots()\n",
    "    ax = fig.add_subplot(111)\n",
    "    ax.plot(x, y, color='#6699cc', alpha=0.7, linewidth=3, solid_capstyle='round', zorder=2)\n",
    "#     break\n",
    "\n"
   ]
  },
  {
   "cell_type": "markdown",
   "metadata": {},
   "source": [
    "### Precision-Recall"
   ]
  },
  {
   "cell_type": "code",
   "execution_count": 14,
   "metadata": {},
   "outputs": [
    {
     "data": {
      "image/png": "[encoded data removed]",
      "text/plain": [
       "<Figure size 432x288 with 1 Axes>"
      ]
     },
     "metadata": {},
     "output_type": "display_data"
    }
   ],
   "source": [
    "# Draw precision-recall curve\n",
    "AP, precisions, recalls, overlaps = utils.compute_ap(gt_bbox, gt_class_id, gt_mask,\n",
    "                                          r['rois'], r['class_ids'], r['scores'], r['masks'])\n",
    "visualize.plot_precision_recall(AP, precisions, recalls)"
   ]
  },
  {
   "cell_type": "code",
   "execution_count": 15,
   "metadata": {},
   "outputs": [
    {
     "data": {
      "image/png": "[encoded data removed]",
      "text/plain": [
       "<Figure size 864x720 with 1 Axes>"
      ]
     },
     "metadata": {},
     "output_type": "display_data"
    }
   ],
   "source": [
    "# Grid of ground truth objects and their predictions\n",
    "visualize.plot_overlaps(gt_class_id, r['class_ids'], r['scores'],\n",
    "                        overlaps, dataset.class_names)"
   ]
  },
  {
   "cell_type": "markdown",
   "metadata": {},
   "source": [
    "### Compute mAP @ IoU=50 on Batch of Images"
   ]
  },
  {
   "cell_type": "code",
   "execution_count": 24,
   "metadata": {
    "scrolled": false
   },
   "outputs": [
    {
     "name": "stdout",
     "output_type": "stream",
     "text": [
      "Molding inputs\n",
      "Inputs molded\n",
      "7333 D:\\training_images\\_new\\goldach_rorschacherberg\\19\\19_275928_340921.tiff 1.0\n",
      "Molding inputs\n",
      "Inputs molded\n",
      "878 D:\\training_images\\_new\\goldach_rorschacherberg\\19\\19_275963_340893.tiff 0.6000000238418579\n",
      "Molding inputs\n",
      "Inputs molded\n",
      "4952 D:\\training_images\\_new\\rapperswil\\19\\19_274991_340359.tiff 0.4666666805744171\n",
      "Molding inputs\n",
      "Inputs molded\n",
      "2652 D:\\training_images\\_new\\zurich\\19\\19_274587_340670.tiff 1.0\n",
      "Molding inputs\n",
      "Inputs molded\n",
      "9034 D:\\training_images\\_new\\zurich\\19\\19_274557_340680.tiff 0.5666666835546493\n",
      "Molding inputs\n",
      "Inputs molded\n",
      "10671 D:\\training_images\\_new\\zurich\\19\\19_274568_340677.tiff 0.25\n",
      "Molding inputs\n",
      "Inputs molded\n",
      "13135 D:\\training_images\\_new\\zurich\\19\\19_274621_340665.tiff 1.0\n",
      "Molding inputs\n",
      "Inputs molded\n",
      "14903 D:\\training_images\\_new\\goldach_rorschacherberg\\19\\19_275912_340907.tiff 0.0\n",
      "Molding inputs\n",
      "Inputs molded\n",
      "11708 D:\\training_images\\_new\\zurich\\19\\19_274617_340698.tiff 0.8333333333333333\n",
      "Molding inputs\n",
      "Inputs molded\n",
      "8193 D:\\training_images\\_new\\zurich\\19\\19_274493_340683.tiff 1.0\n",
      "Molding inputs\n",
      "Inputs molded\n",
      "11146 D:\\training_images\\_new\\zurich\\19\\19_274551_340721.tiff 0.5\n",
      "Molding inputs\n",
      "Inputs molded\n",
      "3867 D:\\training_images\\_new\\zurich\\19\\19_274587_340714.tiff 0.8163265415600367\n",
      "Molding inputs\n",
      "Inputs molded\n",
      "2739 D:\\training_images\\_new\\giswil_2\\19\\19_274005_339412.tiff 0.5\n",
      "Molding inputs\n",
      "Inputs molded\n",
      "5661 D:\\training_images\\_new\\zurich\\19\\19_274604_340662.tiff 0.5500000193715096\n",
      "Molding inputs\n",
      "Inputs molded\n",
      "5574 D:\\training_images\\_new\\zurich\\19\\19_274565_340686.tiff 0.8333333134651184\n",
      "Molding inputs\n",
      "Inputs molded\n",
      "10899 D:\\training_images\\_new\\zurich\\19\\19_274543_340673.tiff 0.5666666835546493\n",
      "Molding inputs\n",
      "Inputs molded\n",
      "7780 D:\\training_images\\_new\\goldach_rorschacherberg\\19\\19_275933_340888.tiff 0.5555555721124013\n",
      "Molding inputs\n",
      "Inputs molded\n",
      "10250 D:\\training_images\\_new\\wettingen\\19\\19_274248_340863.tiff 0.0\n",
      "Molding inputs\n",
      "Inputs molded\n",
      "16239 D:\\training_images\\_new\\zurich\\19\\19_274606_340683.tiff 0.8333333134651184\n",
      "Molding inputs\n",
      "Inputs molded\n",
      "6510 D:\\training_images\\_new\\duebendorf\\19\\19_274688_340728.tiff 0.333333338300387\n",
      "Molding inputs\n",
      "Inputs molded\n",
      "8034 D:\\training_images\\_new\\goldach_rorschacherberg\\19\\19_275965_340884.tiff 0.25\n",
      "Molding inputs\n",
      "Inputs molded\n",
      "3020 D:\\training_images\\_new\\goldach_rorschacherberg\\19\\19_275926_340876.tiff 0.0\n",
      "Molding inputs\n",
      "Inputs molded\n",
      "17452 D:\\training_images\\_new\\goldach_rorschacherberg\\19\\19_275904_340924.tiff 0.95\n",
      "Molding inputs\n",
      "Inputs molded\n",
      "16244 D:\\training_images\\_new\\goldach_rorschacherberg\\19\\19_275902_340895.tiff 0.0\n",
      "Molding inputs\n",
      "Inputs molded\n",
      "17049 D:\\training_images\\_new\\goldach_rorschacherberg\\19\\19_275923_340903.tiff 0.6875\n",
      "Molding inputs\n",
      "Inputs molded\n",
      "5337 D:\\training_images\\_new\\zurich\\19\\19_274541_340671.tiff 1.0\n",
      "Molding inputs\n",
      "Inputs molded\n",
      "3478 D:\\training_images\\_new\\goldach_rorschacherberg\\19\\19_275974_340895.tiff 0.25\n",
      "Molding inputs\n",
      "Inputs molded\n",
      "9505 D:\\training_images\\_new\\wettingen\\19\\19_274267_340885.tiff 0.800000011920929\n",
      "Molding inputs\n",
      "Inputs molded\n",
      "4811 D:\\training_images\\_new\\zurich\\19\\19_274559_340723.tiff 1.0\n",
      "Molding inputs\n",
      "Inputs molded\n",
      "4464 D:\\training_images\\_new\\zurich\\19\\19_274555_340666.tiff 0.375\n",
      "Molding inputs\n",
      "Inputs molded\n",
      "13772 D:\\training_images\\_new\\zurich\\19\\19_274516_340707.tiff 0.41666666666666663\n",
      "Molding inputs\n",
      "Inputs molded\n",
      "7541 D:\\training_images\\_new\\zurich\\19\\19_274610_340666.tiff 0.699999988079071\n",
      "Molding inputs\n",
      "Inputs molded\n",
      "185 D:\\training_images\\_new\\zurich\\19\\19_274616_340682.tiff 0.5\n",
      "Molding inputs\n",
      "Inputs molded\n",
      "4545 D:\\training_images\\_new\\goldach_rorschacherberg\\19\\19_275939_340905.tiff 0.5\n",
      "Molding inputs\n",
      "Inputs molded\n",
      "1240 D:\\training_images\\_new\\zurich\\19\\19_274545_340736.tiff 0.5\n",
      "Molding inputs\n",
      "Inputs molded\n",
      "1571 D:\\training_images\\_new\\zurich\\19\\19_274575_340680.tiff 0.6666666865348816\n",
      "Molding inputs\n",
      "Inputs molded\n",
      "10282 D:\\training_images\\_new\\zurich\\19\\19_274492_340701.tiff 0.6333333492279053\n",
      "Molding inputs\n",
      "Inputs molded\n",
      "5528 D:\\training_images\\_new\\zurich\\19\\19_274575_340718.tiff 0.6875\n",
      "Molding inputs\n",
      "Inputs molded\n",
      "9491 D:\\training_images\\_new\\zurich\\19\\19_274503_340741.tiff 1.0\n",
      "Molding inputs\n",
      "Inputs molded\n",
      "9613 D:\\training_images\\_new\\goldach_rorschacherberg\\19\\19_275956_340912.tiff 0.5555555721124013\n",
      "Molding inputs\n",
      "Inputs molded\n",
      "15514 D:\\training_images\\_new\\zurich\\19\\19_274519_340680.tiff 1.0\n",
      "Molding inputs\n",
      "Inputs molded\n",
      "15433 D:\\training_images\\_new\\zurich\\19\\19_274581_340726.tiff 0.6666666865348816\n",
      "Molding inputs\n",
      "Inputs molded\n",
      "741 D:\\training_images\\_new\\zurich\\19\\19_274572_340681.tiff 0.5555555721124013\n",
      "Molding inputs\n",
      "Inputs molded\n",
      "1692 D:\\training_images\\_new\\zurich\\19\\19_274490_340701.tiff 0.800000011920929\n",
      "Molding inputs\n",
      "Inputs molded\n",
      "5305 D:\\training_images\\_new\\zurich\\19\\19_274612_340683.tiff 0.5666666835546493\n",
      "Molding inputs\n",
      "Inputs molded\n",
      "7962 D:\\training_images\\_new\\zurich\\19\\19_274549_340713.tiff 0.5500000193715096\n",
      "Molding inputs\n",
      "Inputs molded\n",
      "13775 D:\\training_images\\_new\\hombrechtikon\\19\\19_274987_340399.tiff 0.444444457689921\n",
      "Molding inputs\n",
      "Inputs molded\n",
      "4340 D:\\training_images\\_new\\rapperswil\\19\\19_275025_340361.tiff 1.0\n",
      "Molding inputs\n",
      "Inputs molded\n",
      "12129 D:\\training_images\\_new\\zurich\\19\\19_274504_340687.tiff 0.3333333432674408\n",
      "Molding inputs\n",
      "Inputs molded\n",
      "6319 D:\\training_images\\_new\\goldach\\19\\19_275928_340881.tiff 1.0\n",
      "mAP @ IoU=50:  0.6118820910425413\n"
     ]
    }
   ],
   "source": [
    "# Compute VOC-style Average Precision\n",
    "def compute_batch_ap(image_ids):\n",
    "    APs = []\n",
    "    for image_id in image_ids:\n",
    "        # Load image\n",
    "\n",
    "            image, image_meta, gt_class_id, gt_bbox, gt_mask =\\\n",
    "                modellib.load_image_gt(dataset, config,\n",
    "                                       image_id, use_mini_mask=False)\n",
    "            image_info = list(filter(lambda i: i['id'] == image_id, dataset.image_info))[0]\n",
    "            AP = \"Failed!!!!\"\n",
    "            try:\n",
    "                # Run object detection\n",
    "                results = model.detect([image], [image_id], verbose=0)\n",
    "                # Compute AP\n",
    "                r = results[0]\n",
    "                AP, precisions, recalls, overlaps =\\\n",
    "                    utils.compute_ap(gt_bbox, gt_class_id, gt_mask,\n",
    "                                      r['rois'], r['class_ids'], r['scores'], r['masks'])\n",
    "                APs.append(AP)\n",
    "            except Exception as e:\n",
    "                print(e)\n",
    "            print(image_id, image_info['path'], AP)\n",
    "        \n",
    "    return APs\n",
    "\n",
    "# Pick a set of random images\n",
    "image_ids = np.random.choice(dataset.image_ids, 50)\n",
    "APs = compute_batch_ap(image_ids)\n",
    "print(\"mAP @ IoU=50: \", np.mean(APs))"
   ]
  },
  {
   "cell_type": "markdown",
   "metadata": {},
   "source": [
    "## Step by Step Prediction"
   ]
  },
  {
   "cell_type": "markdown",
   "metadata": {},
   "source": [
    "## Stage 1: Region Proposal Network\n",
    "\n",
    "The Region Proposal Network (RPN) runs a lightweight binary classifier on a lot of boxes (anchors) over the image and returns object/no-object scores. Anchors with high *objectness* score (positive anchors) are passed to the stage two to be classified.\n",
    "\n",
    "Often, even positive anchors don't cover objects fully. So the RPN also regresses a refinement (a delta in location and size) to be applied to the anchors to shift it and resize it a bit to the correct boundaries of the object."
   ]
  },
  {
   "cell_type": "markdown",
   "metadata": {},
   "source": [
    "### 1.a RPN Targets\n",
    "\n",
    "The RPN targets are the training values for the RPN. To generate the targets, we start with a grid of anchors that cover the full image at different scales, and then we compute the IoU of the anchors with ground truth object. Positive anchors are those that have an IoU >= 0.7 with any ground truth object, and negative anchors are those that don't cover any object by more than 0.3 IoU. Anchors in between (i.e. cover an object by IoU >= 0.3 but < 0.7) are considered neutral and excluded from training.\n",
    "\n",
    "To train the RPN regressor, we also compute the shift and resizing needed to make the anchor cover the ground truth object completely."
   ]
  },
  {
   "cell_type": "code",
   "execution_count": null,
   "metadata": {},
   "outputs": [],
   "source": [
    "# Generate RPN trainig targets\n",
    "# target_rpn_match is 1 for positive anchors, -1 for negative anchors\n",
    "# and 0 for neutral anchors.\n",
    "target_rpn_match, target_rpn_bbox = modellib.build_rpn_targets(\n",
    "    image.shape, model.anchors, gt_class_id, gt_bbox, model.config)\n",
    "log(\"target_rpn_match\", target_rpn_match)\n",
    "log(\"target_rpn_bbox\", target_rpn_bbox)\n",
    "\n",
    "positive_anchor_ix = np.where(target_rpn_match[:] == 1)[0]\n",
    "negative_anchor_ix = np.where(target_rpn_match[:] == -1)[0]\n",
    "neutral_anchor_ix = np.where(target_rpn_match[:] == 0)[0]\n",
    "positive_anchors = model.anchors[positive_anchor_ix]\n",
    "negative_anchors = model.anchors[negative_anchor_ix]\n",
    "neutral_anchors = model.anchors[neutral_anchor_ix]\n",
    "log(\"positive_anchors\", positive_anchors)\n",
    "log(\"negative_anchors\", negative_anchors)\n",
    "log(\"neutral anchors\", neutral_anchors)\n",
    "\n",
    "# Apply refinement deltas to positive anchors\n",
    "refined_anchors = utils.apply_box_deltas(\n",
    "    positive_anchors,\n",
    "    target_rpn_bbox[:positive_anchors.shape[0]] * model.config.RPN_BBOX_STD_DEV)\n",
    "log(\"refined_anchors\", refined_anchors, )\n"
   ]
  },
  {
   "cell_type": "code",
   "execution_count": null,
   "metadata": {},
   "outputs": [],
   "source": [
    "# Display positive anchors before refinement (dotted) and\n",
    "# after refinement (solid).\n",
    "visualize.draw_boxes(image, boxes=positive_anchors, refined_boxes=refined_anchors, ax=get_ax())"
   ]
  },
  {
   "cell_type": "markdown",
   "metadata": {},
   "source": [
    "### 1.b RPN Predictions\n",
    "\n",
    "Here we run the RPN graph and display its predictions."
   ]
  },
  {
   "cell_type": "code",
   "execution_count": null,
   "metadata": {},
   "outputs": [],
   "source": [
    "# Run RPN sub-graph\n",
    "pillar = model.keras_model.get_layer(\"ROI\").output  # node to start searching from\n",
    "\n",
    "# TF 1.4 introduces a new version of NMS. Search for both names to support TF 1.3 and 1.4\n",
    "nms_node = model.ancestor(pillar, \"ROI/rpn_non_max_suppression:0\")\n",
    "if nms_node is None:\n",
    "    nms_node = model.ancestor(pillar, \"ROI/rpn_non_max_suppression/NonMaxSuppressionV2:0\")\n",
    "\n",
    "rpn = model.run_graph([image], [\n",
    "    (\"rpn_class\", model.keras_model.get_layer(\"rpn_class\").output),\n",
    "    (\"pre_nms_anchors\", model.ancestor(pillar, \"ROI/pre_nms_anchors:0\")),\n",
    "    (\"refined_anchors\", model.ancestor(pillar, \"ROI/refined_anchors:0\")),\n",
    "    (\"refined_anchors_clipped\", model.ancestor(pillar, \"ROI/refined_anchors_clipped:0\")),\n",
    "    (\"post_nms_anchor_ix\", nms_node),\n",
    "    (\"proposals\", model.keras_model.get_layer(\"ROI\").output),\n",
    "])"
   ]
  },
  {
   "cell_type": "code",
   "execution_count": null,
   "metadata": {},
   "outputs": [],
   "source": [
    "# Show top anchors by score (before refinement)\n",
    "limit = 100\n",
    "sorted_anchor_ids = np.argsort(rpn['rpn_class'][:,:,1].flatten())[::-1]\n",
    "visualize.draw_boxes(image, boxes=model.anchors[sorted_anchor_ids[:limit]], ax=get_ax())"
   ]
  },
  {
   "cell_type": "code",
   "execution_count": null,
   "metadata": {
    "scrolled": false
   },
   "outputs": [],
   "source": [
    "# Show top anchors with refinment. Then with clipping to image boundaries\n",
    "limit = 50\n",
    "ax = get_ax(1, 2)\n",
    "visualize.draw_boxes(image, boxes=rpn[\"pre_nms_anchors\"][0, :limit], \n",
    "           refined_boxes=rpn[\"refined_anchors\"][0, :limit], ax=ax[0])\n",
    "visualize.draw_boxes(image, refined_boxes=rpn[\"refined_anchors_clipped\"][0, :limit], ax=ax[1])"
   ]
  },
  {
   "cell_type": "code",
   "execution_count": null,
   "metadata": {
    "scrolled": false
   },
   "outputs": [],
   "source": [
    "# Show refined anchors after non-max suppression\n",
    "limit = 50\n",
    "ixs = rpn[\"post_nms_anchor_ix\"][:limit]\n",
    "visualize.draw_boxes(image, refined_boxes=rpn[\"refined_anchors_clipped\"][0, ixs], ax=get_ax())"
   ]
  },
  {
   "cell_type": "code",
   "execution_count": null,
   "metadata": {},
   "outputs": [],
   "source": [
    "# Show final proposals\n",
    "# These are the same as the previous step (refined anchors \n",
    "# after NMS) but with coordinates normalized to [0, 1] range.\n",
    "limit = 50\n",
    "# Convert back to image coordinates for display\n",
    "h, w = config.IMAGE_SHAPE[:2]\n",
    "proposals = rpn['proposals'][0, :limit] * np.array([h, w, h, w])\n",
    "visualize.draw_boxes(image, refined_boxes=proposals, ax=get_ax())"
   ]
  },
  {
   "cell_type": "code",
   "execution_count": null,
   "metadata": {},
   "outputs": [],
   "source": [
    "# Measure the RPN recall (percent of objects covered by anchors)\n",
    "# Here we measure recall for 3 different methods:\n",
    "# - All anchors\n",
    "# - All refined anchors\n",
    "# - Refined anchors after NMS\n",
    "iou_threshold = 0.7\n",
    "\n",
    "recall, positive_anchor_ids = utils.compute_recall(model.anchors, gt_bbox, iou_threshold)\n",
    "print(\"All Anchors ({:5})       Recall: {:.3f}  Positive anchors: {}\".format(\n",
    "    model.anchors.shape[0], recall, len(positive_anchor_ids)))\n",
    "\n",
    "recall, positive_anchor_ids = utils.compute_recall(rpn['refined_anchors'][0], gt_bbox, iou_threshold)\n",
    "print(\"Refined Anchors ({:5})   Recall: {:.3f}  Positive anchors: {}\".format(\n",
    "    rpn['refined_anchors'].shape[1], recall, len(positive_anchor_ids)))\n",
    "\n",
    "recall, positive_anchor_ids = utils.compute_recall(proposals, gt_bbox, iou_threshold)\n",
    "print(\"Post NMS Anchors ({:5})  Recall: {:.3f}  Positive anchors: {}\".format(\n",
    "    proposals.shape[0], recall, len(positive_anchor_ids)))\n"
   ]
  },
  {
   "cell_type": "markdown",
   "metadata": {},
   "source": [
    "## Stage 2: Proposal Classification\n",
    "\n",
    "This stage takes the region proposals from the RPN and classifies them."
   ]
  },
  {
   "cell_type": "markdown",
   "metadata": {},
   "source": [
    "### 2.a Proposal Classification\n",
    "\n",
    "Run the classifier heads on proposals to generate class propbabilities and bounding box regressions."
   ]
  },
  {
   "cell_type": "code",
   "execution_count": null,
   "metadata": {},
   "outputs": [],
   "source": [
    "# Get input and output to classifier and mask heads.\n",
    "mrcnn = model.run_graph([image], [\n",
    "    (\"proposals\", model.keras_model.get_layer(\"ROI\").output),\n",
    "    (\"probs\", model.keras_model.get_layer(\"mrcnn_class\").output),\n",
    "    (\"deltas\", model.keras_model.get_layer(\"mrcnn_bbox\").output),\n",
    "    (\"masks\", model.keras_model.get_layer(\"mrcnn_mask\").output),\n",
    "    (\"detections\", model.keras_model.get_layer(\"mrcnn_detection\").output),\n",
    "])"
   ]
  },
  {
   "cell_type": "code",
   "execution_count": null,
   "metadata": {},
   "outputs": [],
   "source": [
    "# Get detection class IDs. Trim zero padding.\n",
    "det_class_ids = mrcnn['detections'][0, :, 4].astype(np.int32)\n",
    "det_count = np.where(det_class_ids == 0)[0][0]\n",
    "det_class_ids = det_class_ids[:det_count]\n",
    "detections = mrcnn['detections'][0, :det_count]\n",
    "\n",
    "print(\"{} detections: {}\".format(\n",
    "    det_count, np.array(dataset.class_names)[det_class_ids]))\n",
    "\n",
    "captions = [\"{} {:.3f}\".format(dataset.class_names[int(c)], s) if c > 0 else \"\"\n",
    "            for c, s in zip(detections[:, 4], detections[:, 5])]\n",
    "visualize.draw_boxes(\n",
    "    image, \n",
    "    refined_boxes=detections[:, :4],\n",
    "    visibilities=[2] * len(detections),\n",
    "    captions=captions, title=\"Detections\",\n",
    "    ax=get_ax())"
   ]
  },
  {
   "cell_type": "markdown",
   "metadata": {},
   "source": [
    "### 2.c Step by Step Detection\n",
    "\n",
    "Here we dive deeper into the process of processing the detections."
   ]
  },
  {
   "cell_type": "code",
   "execution_count": null,
   "metadata": {},
   "outputs": [],
   "source": [
    "# Proposals are in normalized coordinates. Scale them\n",
    "# to image coordinates.\n",
    "h, w = config.IMAGE_SHAPE[:2]\n",
    "proposals = np.around(mrcnn[\"proposals\"][0] * np.array([h, w, h, w])).astype(np.int32)\n",
    "\n",
    "# Class ID, score, and mask per proposal\n",
    "roi_class_ids = np.argmax(mrcnn[\"probs\"][0], axis=1)\n",
    "roi_scores = mrcnn[\"probs\"][0, np.arange(roi_class_ids.shape[0]), roi_class_ids]\n",
    "roi_class_names = np.array(dataset.class_names)[roi_class_ids]\n",
    "roi_positive_ixs = np.where(roi_class_ids > 0)[0]\n",
    "\n",
    "# How many ROIs vs empty rows?\n",
    "print(\"{} Valid proposals out of {}\".format(np.sum(np.any(proposals, axis=1)), proposals.shape[0]))\n",
    "print(\"{} Positive ROIs\".format(len(roi_positive_ixs)))\n",
    "\n",
    "# Class counts\n",
    "print(list(zip(*np.unique(roi_class_names, return_counts=True))))"
   ]
  },
  {
   "cell_type": "code",
   "execution_count": null,
   "metadata": {},
   "outputs": [],
   "source": [
    "# Display a random sample of proposals.\n",
    "# Proposals classified as background are dotted, and\n",
    "# the rest show their class and confidence score.\n",
    "limit = 200\n",
    "ixs = np.random.randint(0, proposals.shape[0], limit)\n",
    "captions = [\"{} {:.3f}\".format(dataset.class_names[c], s) if c > 0 else \"\"\n",
    "            for c, s in zip(roi_class_ids[ixs], roi_scores[ixs])]\n",
    "visualize.draw_boxes(image, boxes=proposals[ixs],\n",
    "                     visibilities=np.where(roi_class_ids[ixs] > 0, 2, 1),\n",
    "                     captions=captions, title=\"ROIs Before Refinment\",\n",
    "                     ax=get_ax())"
   ]
  },
  {
   "cell_type": "markdown",
   "metadata": {},
   "source": [
    "#### Apply Bounding Box Refinement"
   ]
  },
  {
   "cell_type": "code",
   "execution_count": null,
   "metadata": {},
   "outputs": [],
   "source": [
    "# Class-specific bounding box shifts.\n",
    "roi_bbox_specific = mrcnn[\"deltas\"][0, np.arange(proposals.shape[0]), roi_class_ids]\n",
    "log(\"roi_bbox_specific\", roi_bbox_specific)\n",
    "\n",
    "# Apply bounding box transformations\n",
    "# Shape: [N, (y1, x1, y2, x2)]\n",
    "refined_proposals = utils.apply_box_deltas(\n",
    "    proposals, roi_bbox_specific * config.BBOX_STD_DEV).astype(np.int32)\n",
    "log(\"refined_proposals\", refined_proposals)\n",
    "\n",
    "# Show positive proposals\n",
    "# ids = np.arange(roi_boxes.shape[0])  # Display all\n",
    "limit = 5\n",
    "ids = np.random.randint(0, len(roi_positive_ixs), limit)  # Display random sample\n",
    "captions = [\"{} {:.3f}\".format(dataset.class_names[c], s) if c > 0 else \"\"\n",
    "            for c, s in zip(roi_class_ids[roi_positive_ixs][ids], roi_scores[roi_positive_ixs][ids])]\n",
    "visualize.draw_boxes(image, boxes=proposals[roi_positive_ixs][ids],\n",
    "                     refined_boxes=refined_proposals[roi_positive_ixs][ids],\n",
    "                     visibilities=np.where(roi_class_ids[roi_positive_ixs][ids] > 0, 1, 0),\n",
    "                     captions=captions, title=\"ROIs After Refinment\",\n",
    "                     ax=get_ax())"
   ]
  },
  {
   "cell_type": "markdown",
   "metadata": {},
   "source": [
    "#### Filter Low Confidence Detections"
   ]
  },
  {
   "cell_type": "code",
   "execution_count": null,
   "metadata": {},
   "outputs": [],
   "source": [
    "# Remove boxes classified as background\n",
    "keep = np.where(roi_class_ids > 0)[0]\n",
    "print(\"Keep {} detections:\\n{}\".format(keep.shape[0], keep))"
   ]
  },
  {
   "cell_type": "code",
   "execution_count": null,
   "metadata": {},
   "outputs": [],
   "source": [
    "# Remove low confidence detections\n",
    "keep = np.intersect1d(keep, np.where(roi_scores >= config.DETECTION_MIN_CONFIDENCE)[0])\n",
    "print(\"Remove boxes below {} confidence. Keep {}:\\n{}\".format(\n",
    "    config.DETECTION_MIN_CONFIDENCE, keep.shape[0], keep))"
   ]
  },
  {
   "cell_type": "markdown",
   "metadata": {},
   "source": [
    "#### Per-Class Non-Max Suppression"
   ]
  },
  {
   "cell_type": "code",
   "execution_count": null,
   "metadata": {},
   "outputs": [],
   "source": [
    "# Apply per-class non-max suppression\n",
    "pre_nms_boxes = refined_proposals[keep]\n",
    "pre_nms_scores = roi_scores[keep]\n",
    "pre_nms_class_ids = roi_class_ids[keep]\n",
    "\n",
    "nms_keep = []\n",
    "for class_id in np.unique(pre_nms_class_ids):\n",
    "    # Pick detections of this class\n",
    "    ixs = np.where(pre_nms_class_ids == class_id)[0]\n",
    "    # Apply NMS\n",
    "    class_keep = utils.non_max_suppression(pre_nms_boxes[ixs], \n",
    "                                            pre_nms_scores[ixs],\n",
    "                                            config.DETECTION_NMS_THRESHOLD)\n",
    "    # Map indicies\n",
    "    class_keep = keep[ixs[class_keep]]\n",
    "    nms_keep = np.union1d(nms_keep, class_keep)\n",
    "    print(\"{:22}: {} -> {}\".format(dataset.class_names[class_id][:20], \n",
    "                                   keep[ixs], class_keep))\n",
    "\n",
    "keep = np.intersect1d(keep, nms_keep).astype(np.int32)\n",
    "print(\"\\nKept after per-class NMS: {}\\n{}\".format(keep.shape[0], keep))"
   ]
  },
  {
   "cell_type": "code",
   "execution_count": null,
   "metadata": {
    "scrolled": false
   },
   "outputs": [],
   "source": [
    "# Show final detections\n",
    "ixs = np.arange(len(keep))  # Display all\n",
    "# ixs = np.random.randint(0, len(keep), 10)  # Display random sample\n",
    "captions = [\"{} {:.3f}\".format(dataset.class_names[c], s) if c > 0 else \"\"\n",
    "            for c, s in zip(roi_class_ids[keep][ixs], roi_scores[keep][ixs])]\n",
    "visualize.draw_boxes(\n",
    "    image, boxes=proposals[keep][ixs],\n",
    "    refined_boxes=refined_proposals[keep][ixs],\n",
    "    visibilities=np.where(roi_class_ids[keep][ixs] > 0, 1, 0),\n",
    "    captions=captions, title=\"Detections after NMS\",\n",
    "    ax=get_ax())"
   ]
  },
  {
   "cell_type": "markdown",
   "metadata": {},
   "source": [
    "## Stage 3: Generating Masks\n",
    "\n",
    "This stage takes the detections (refined bounding boxes and class IDs) from the previous layer and runs the mask head to generate segmentation masks for every instance."
   ]
  },
  {
   "cell_type": "markdown",
   "metadata": {},
   "source": [
    "### 3.a Mask Targets\n",
    "\n",
    "These are the training targets for the mask branch"
   ]
  },
  {
   "cell_type": "code",
   "execution_count": null,
   "metadata": {
    "scrolled": false
   },
   "outputs": [],
   "source": [
    "display_images(np.transpose(gt_mask, [2, 0, 1]), cmap=\"Blues\")"
   ]
  },
  {
   "cell_type": "markdown",
   "metadata": {},
   "source": [
    "### 3.b Predicted Masks"
   ]
  },
  {
   "cell_type": "code",
   "execution_count": null,
   "metadata": {},
   "outputs": [],
   "source": [
    "# Get predictions of mask head\n",
    "mrcnn = model.run_graph([image], [\n",
    "    (\"detections\", model.keras_model.get_layer(\"mrcnn_detection\").output),\n",
    "    (\"masks\", model.keras_model.get_layer(\"mrcnn_mask\").output),\n",
    "])\n",
    "\n",
    "# Get detection class IDs. Trim zero padding.\n",
    "det_class_ids = mrcnn['detections'][0, :, 4].astype(np.int32)\n",
    "det_count = np.where(det_class_ids == 0)[0][0]\n",
    "det_class_ids = det_class_ids[:det_count]\n",
    "\n",
    "print(\"{} detections: {}\".format(\n",
    "    det_count, np.array(dataset.class_names)[det_class_ids]))"
   ]
  },
  {
   "cell_type": "code",
   "execution_count": null,
   "metadata": {},
   "outputs": [],
   "source": [
    "# Masks\n",
    "det_boxes = mrcnn[\"detections\"][0, :, :4].astype(np.int32)\n",
    "det_mask_specific = np.array([mrcnn[\"masks\"][0, i, :, :, c] \n",
    "                              for i, c in enumerate(det_class_ids)])\n",
    "det_masks = np.array([utils.unmold_mask(m, det_boxes[i], image.shape)\n",
    "                      for i, m in enumerate(det_mask_specific)])\n",
    "log(\"det_mask_specific\", det_mask_specific)\n",
    "log(\"det_masks\", det_masks)"
   ]
  },
  {
   "cell_type": "code",
   "execution_count": null,
   "metadata": {},
   "outputs": [],
   "source": [
    "display_images(det_mask_specific[:1] * 255, cmap=\"Blues\", interpolation=\"none\")"
   ]
  },
  {
   "cell_type": "code",
   "execution_count": null,
   "metadata": {},
   "outputs": [],
   "source": [
    "display_images(det_masks[:1] * 255, cmap=\"Blues\", interpolation=\"none\")"
   ]
  },
  {
   "cell_type": "markdown",
   "metadata": {},
   "source": [
    "## Visualize Activations\n",
    "\n",
    "In some cases it helps to look at the output from different layers and visualize them to catch issues and odd patterns."
   ]
  },
  {
   "cell_type": "code",
   "execution_count": null,
   "metadata": {
    "scrolled": false
   },
   "outputs": [],
   "source": [
    "# Get activations of a few sample layers\n",
    "activations = model.run_graph([image], [\n",
    "    (\"input_image\",        model.keras_model.get_layer(\"input_image\").output),\n",
    "    (\"res4w_out\",          model.keras_model.get_layer(\"res4w_out\").output),  # for resnet100\n",
    "    (\"rpn_bbox\",           model.keras_model.get_layer(\"rpn_bbox\").output),\n",
    "    (\"roi\",                model.keras_model.get_layer(\"ROI\").output),\n",
    "])"
   ]
  },
  {
   "cell_type": "code",
   "execution_count": null,
   "metadata": {},
   "outputs": [],
   "source": [
    "# Input image (normalized)\n",
    "_ = plt.imshow(modellib.unmold_image(activations[\"input_image\"][0],config))"
   ]
  },
  {
   "cell_type": "code",
   "execution_count": null,
   "metadata": {},
   "outputs": [],
   "source": [
    "# Backbone feature map\n",
    "display_images(np.transpose(activations[\"res4w_out\"][0,:,:,:4], [2, 0, 1]))"
   ]
  },
  {
   "cell_type": "code",
   "execution_count": null,
   "metadata": {},
   "outputs": [],
   "source": [
    "# Histograms of RPN bounding box deltas\n",
    "plt.figure(figsize=(12, 3))\n",
    "plt.subplot(1, 4, 1)\n",
    "plt.title(\"dy\")\n",
    "_ = plt.hist(activations[\"rpn_bbox\"][0,:,0], 50)\n",
    "plt.subplot(1, 4, 2)\n",
    "plt.title(\"dx\")\n",
    "_ = plt.hist(activations[\"rpn_bbox\"][0,:,1], 50)\n",
    "plt.subplot(1, 4, 3)\n",
    "plt.title(\"dw\")\n",
    "_ = plt.hist(activations[\"rpn_bbox\"][0,:,2], 50)\n",
    "plt.subplot(1, 4, 4)\n",
    "plt.title(\"dh\")\n",
    "_ = plt.hist(activations[\"rpn_bbox\"][0,:,3], 50)"
   ]
  },
  {
   "cell_type": "code",
   "execution_count": null,
   "metadata": {},
   "outputs": [],
   "source": [
    "# Distribution of y, x coordinates of generated proposals\n",
    "plt.figure(figsize=(10, 5))\n",
    "plt.subplot(1, 2, 1)\n",
    "plt.title(\"y1, x1\")\n",
    "plt.scatter(activations[\"roi\"][0,:,0], activations[\"roi\"][0,:,1])\n",
    "plt.subplot(1, 2, 2)\n",
    "plt.title(\"y2, x2\")\n",
    "plt.scatter(activations[\"roi\"][0,:,2], activations[\"roi\"][0,:,3])\n",
    "plt.show()"
   ]
  },
  {
   "cell_type": "code",
   "execution_count": null,
   "metadata": {},
   "outputs": [],
   "source": []
  },
  {
   "cell_type": "code",
   "execution_count": null,
   "metadata": {},
   "outputs": [],
   "source": []
  }
 ],
 "metadata": {
  "kernelspec": {
   "display_name": "Python 3",
   "language": "python",
   "name": "python3"
  },
  "language_info": {
   "codemirror_mode": {
    "name": "ipython",
    "version": 3
   },
   "file_extension": ".py",
   "mimetype": "text/x-python",
   "name": "python",
   "nbconvert_exporter": "python",
   "pygments_lexer": "ipython3",
   "version": "3.6.4"
  }
 },
 "nbformat": 4,
 "nbformat_minor": 2
}
