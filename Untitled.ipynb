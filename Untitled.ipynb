{
 "cells": [
  {
   "cell_type": "code",
   "execution_count": 97,
   "metadata": {},
   "outputs": [
    {
     "name": "stderr",
     "output_type": "stream",
     "text": [
      "c:\\dev\\osm-instance-segmentation\\venv\\lib\\site-packages\\scipy\\optimize\\minpack.py:785: OptimizeWarning: Covariance of the parameters could not be estimated\n",
      "  category=OptimizeWarning)\n"
     ]
    },
    {
     "data": {
      "text/plain": [
       "[<matplotlib.lines.Line2D at 0x1adb4d67c88>]"
      ]
     },
     "execution_count": 97,
     "metadata": {},
     "output_type": "execute_result"
    },
    {
     "data": {
      "image/png": "[encoded data removed]",
      "text/plain": [
       "<matplotlib.figure.Figure at 0x1adb4d67dd8>"
      ]
     },
     "metadata": {},
     "output_type": "display_data"
    }
   ],
   "source": [
    "import numpy as np\n",
    "import matplotlib.pyplot as plt\n",
    "from scipy.optimize import curve_fit\n",
    "\n",
    "x = [2, 3, 4]\n",
    "y = [2, 5, 6]\n",
    "\n",
    "xdata = np.array(x)\n",
    "ydata = np.array(y) \n",
    "\n",
    "def make_fit_func(angle: float):\n",
    "    def fit_line(x, m, b):\n",
    "        a = angle\n",
    "        return -angle * x + b\n",
    "    return fit_line\n",
    "\n",
    "angle_in_degrees = 30\n",
    "# popt, pcov = curve_fit(line, xdata, ydata)\n",
    "f = make_fit_func(np.tan(np.radians(angle_in_degrees)))\n",
    "popt, pcov = curve_fit(f, xdata, ydata)\n",
    "y_fit1 = f(xdata, *popt)\n",
    "\n",
    "plt.scatter(xdata,ydata, marker='.')\n",
    "plt.plot(xdata,y_fit1, color='g', label='curve_fit')\n"
   ]
  },
  {
   "cell_type": "code",
   "execution_count": null,
   "metadata": {},
   "outputs": [],
   "source": []
  }
 ],
 "metadata": {
  "kernelspec": {
   "display_name": "Python 3",
   "language": "python",
   "name": "python3"
  },
  "language_info": {
   "codemirror_mode": {
    "name": "ipython",
    "version": 3
   },
   "file_extension": ".py",
   "mimetype": "text/x-python",
   "name": "python",
   "nbconvert_exporter": "python",
   "pygments_lexer": "ipython3",
   "version": "3.6.4"
  }
 },
 "nbformat": 4,
 "nbformat_minor": 2
}
